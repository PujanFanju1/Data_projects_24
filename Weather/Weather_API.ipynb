{
 "cells": [
  {
   "cell_type": "code",
   "execution_count": 1,
   "metadata": {},
   "outputs": [],
   "source": [
    "# API key- bd75e992170b4383b8c143942242008"
   ]
  },
  {
   "cell_type": "code",
   "execution_count": 2,
   "metadata": {},
   "outputs": [],
   "source": [
    "import requests\n",
    "import pandas as pd\n",
    "\n",
    "key = 'ab2ed3d3edb04581b6a151349242008'\n",
    "url = \"http://api.weatherapi.com/v1/current.json\"\n",
    "\n",
    "# Parameters to be sent with the GET request\n",
    "params = {\n",
    "    'key': key,         # Your API key\n",
    "    'q': 'London'       # The location for which you want the weather data\n",
    "}\n",
    "\n",
    "# Making the GET request\n",
    "response = requests.get(url, params=params)\n",
    "\n",
    "# Handling the response\n",
    "if response.status_code == 200:\n",
    "    # If the request was successful, print the JSON data\n",
    "    data = response.json()\n",
    "    data\n",
    "else:\n",
    "    # If the request failed, print the status code\n",
    "    print(f\"Request failed with status code: {response.status_code}\")"
   ]
  },
  {
   "cell_type": "markdown",
   "metadata": {},
   "source": [
    "### The data dictionary consists of 2 dictionaries- 'location' (which we don't need) and 'current'. We are getting 'current' dictionary only."
   ]
  },
  {
   "cell_type": "code",
   "execution_count": 3,
   "metadata": {},
   "outputs": [],
   "source": [
    "all_data = data['current']"
   ]
  },
  {
   "cell_type": "code",
   "execution_count": 4,
   "metadata": {},
   "outputs": [
    {
     "data": {
      "text/plain": [
       "{'last_updated_epoch': 1724246100,\n",
       " 'last_updated': '2024-08-21 14:15',\n",
       " 'temp_c': 20.3,\n",
       " 'temp_f': 68.5,\n",
       " 'is_day': 1,\n",
       " 'condition': {'text': 'Partly cloudy',\n",
       "  'icon': '//cdn.weatherapi.com/weather/64x64/day/116.png',\n",
       "  'code': 1003},\n",
       " 'wind_mph': 12.5,\n",
       " 'wind_kph': 20.2,\n",
       " 'wind_degree': 260,\n",
       " 'wind_dir': 'W',\n",
       " 'pressure_mb': 1017.0,\n",
       " 'pressure_in': 30.03,\n",
       " 'precip_mm': 0.0,\n",
       " 'precip_in': 0.0,\n",
       " 'humidity': 49,\n",
       " 'cloud': 75,\n",
       " 'feelslike_c': 20.3,\n",
       " 'feelslike_f': 68.5,\n",
       " 'windchill_c': 21.6,\n",
       " 'windchill_f': 70.8,\n",
       " 'heatindex_c': 24.0,\n",
       " 'heatindex_f': 75.1,\n",
       " 'dewpoint_c': 7.7,\n",
       " 'dewpoint_f': 45.8,\n",
       " 'vis_km': 10.0,\n",
       " 'vis_miles': 6.0,\n",
       " 'uv': 6.0,\n",
       " 'gust_mph': 15.9,\n",
       " 'gust_kph': 25.7}"
      ]
     },
     "execution_count": 4,
     "metadata": {},
     "output_type": "execute_result"
    }
   ],
   "source": [
    "all_data"
   ]
  },
  {
   "cell_type": "markdown",
   "metadata": {},
   "source": [
    "### This dict still contains another dict (condition). From this, we only need 'text'. So I will put everything in the dict as a df and then seperately extract the 'text' from 'condition' and concat that in later."
   ]
  },
  {
   "cell_type": "code",
   "execution_count": 5,
   "metadata": {},
   "outputs": [
    {
     "data": {
      "text/plain": [
       "{'last_updated_epoch': 1724246100,\n",
       " 'last_updated': '2024-08-21 14:15',\n",
       " 'temp_c': 20.3,\n",
       " 'temp_f': 68.5,\n",
       " 'is_day': 1,\n",
       " 'condition': {'text': 'Partly cloudy',\n",
       "  'icon': '//cdn.weatherapi.com/weather/64x64/day/116.png',\n",
       "  'code': 1003},\n",
       " 'wind_mph': 12.5,\n",
       " 'wind_kph': 20.2,\n",
       " 'wind_degree': 260,\n",
       " 'wind_dir': 'W',\n",
       " 'pressure_mb': 1017.0,\n",
       " 'pressure_in': 30.03,\n",
       " 'precip_mm': 0.0,\n",
       " 'precip_in': 0.0,\n",
       " 'humidity': 49,\n",
       " 'cloud': 75,\n",
       " 'feelslike_c': 20.3,\n",
       " 'feelslike_f': 68.5,\n",
       " 'windchill_c': 21.6,\n",
       " 'windchill_f': 70.8,\n",
       " 'heatindex_c': 24.0,\n",
       " 'heatindex_f': 75.1,\n",
       " 'dewpoint_c': 7.7,\n",
       " 'dewpoint_f': 45.8,\n",
       " 'vis_km': 10.0,\n",
       " 'vis_miles': 6.0,\n",
       " 'uv': 6.0,\n",
       " 'gust_mph': 15.9,\n",
       " 'gust_kph': 25.7}"
      ]
     },
     "execution_count": 5,
     "metadata": {},
     "output_type": "execute_result"
    }
   ],
   "source": [
    "all_data"
   ]
  },
  {
   "cell_type": "code",
   "execution_count": 6,
   "metadata": {},
   "outputs": [
    {
     "data": {
      "text/plain": [
       "{'text': 'Partly cloudy'}"
      ]
     },
     "execution_count": 6,
     "metadata": {},
     "output_type": "execute_result"
    }
   ],
   "source": [
    "# Extract the condition dict only and pop the icon and code.\n",
    "condition = all_data['condition']\n",
    "condition.pop('icon')\n",
    "condition.pop('code')\n",
    "condition"
   ]
  },
  {
   "cell_type": "code",
   "execution_count": 7,
   "metadata": {},
   "outputs": [
    {
     "data": {
      "text/plain": [
       "{'last_updated_epoch': 1724246100,\n",
       " 'last_updated': '2024-08-21 14:15',\n",
       " 'temp_c': 20.3,\n",
       " 'temp_f': 68.5,\n",
       " 'is_day': 1,\n",
       " 'condition': {'text': 'Partly cloudy'},\n",
       " 'wind_mph': 12.5,\n",
       " 'wind_kph': 20.2,\n",
       " 'wind_degree': 260,\n",
       " 'wind_dir': 'W',\n",
       " 'pressure_mb': 1017.0,\n",
       " 'pressure_in': 30.03,\n",
       " 'precip_mm': 0.0,\n",
       " 'precip_in': 0.0,\n",
       " 'humidity': 49,\n",
       " 'cloud': 75,\n",
       " 'feelslike_c': 20.3,\n",
       " 'feelslike_f': 68.5,\n",
       " 'windchill_c': 21.6,\n",
       " 'windchill_f': 70.8,\n",
       " 'heatindex_c': 24.0,\n",
       " 'heatindex_f': 75.1,\n",
       " 'dewpoint_c': 7.7,\n",
       " 'dewpoint_f': 45.8,\n",
       " 'vis_km': 10.0,\n",
       " 'vis_miles': 6.0,\n",
       " 'uv': 6.0,\n",
       " 'gust_mph': 15.9,\n",
       " 'gust_kph': 25.7}"
      ]
     },
     "execution_count": 7,
     "metadata": {},
     "output_type": "execute_result"
    }
   ],
   "source": [
    "all_data"
   ]
  },
  {
   "cell_type": "code",
   "execution_count": 8,
   "metadata": {},
   "outputs": [
    {
     "data": {
      "text/plain": [
       "{'text': 'Partly cloudy'}"
      ]
     },
     "execution_count": 8,
     "metadata": {},
     "output_type": "execute_result"
    }
   ],
   "source": [
    "# From all_data, remove 'condition'.\n",
    "all_data.pop('condition')"
   ]
  },
  {
   "cell_type": "code",
   "execution_count": 9,
   "metadata": {},
   "outputs": [
    {
     "data": {
      "text/plain": [
       "{'last_updated_epoch': 1724246100,\n",
       " 'last_updated': '2024-08-21 14:15',\n",
       " 'temp_c': 20.3,\n",
       " 'temp_f': 68.5,\n",
       " 'is_day': 1,\n",
       " 'wind_mph': 12.5,\n",
       " 'wind_kph': 20.2,\n",
       " 'wind_degree': 260,\n",
       " 'wind_dir': 'W',\n",
       " 'pressure_mb': 1017.0,\n",
       " 'pressure_in': 30.03,\n",
       " 'precip_mm': 0.0,\n",
       " 'precip_in': 0.0,\n",
       " 'humidity': 49,\n",
       " 'cloud': 75,\n",
       " 'feelslike_c': 20.3,\n",
       " 'feelslike_f': 68.5,\n",
       " 'windchill_c': 21.6,\n",
       " 'windchill_f': 70.8,\n",
       " 'heatindex_c': 24.0,\n",
       " 'heatindex_f': 75.1,\n",
       " 'dewpoint_c': 7.7,\n",
       " 'dewpoint_f': 45.8,\n",
       " 'vis_km': 10.0,\n",
       " 'vis_miles': 6.0,\n",
       " 'uv': 6.0,\n",
       " 'gust_mph': 15.9,\n",
       " 'gust_kph': 25.7}"
      ]
     },
     "execution_count": 9,
     "metadata": {},
     "output_type": "execute_result"
    }
   ],
   "source": [
    "all_data"
   ]
  },
  {
   "cell_type": "code",
   "execution_count": 10,
   "metadata": {},
   "outputs": [
    {
     "data": {
      "text/plain": [
       "{'text': 'Partly cloudy'}"
      ]
     },
     "execution_count": 10,
     "metadata": {},
     "output_type": "execute_result"
    }
   ],
   "source": [
    "condition"
   ]
  },
  {
   "cell_type": "code",
   "execution_count": 11,
   "metadata": {},
   "outputs": [],
   "source": [
    "weather_df = pd.DataFrame([all_data])\n",
    "condition_df = pd.DataFrame([condition])\n",
    "\n",
    "weather_df = pd.concat([weather_df,condition_df],axis=1)"
   ]
  },
  {
   "cell_type": "code",
   "execution_count": 12,
   "metadata": {},
   "outputs": [
    {
     "data": {
      "text/plain": [
       "['last_updated_epoch',\n",
       " 'last_updated',\n",
       " 'temp_c',\n",
       " 'temp_f',\n",
       " 'is_day',\n",
       " 'wind_mph',\n",
       " 'wind_kph',\n",
       " 'wind_degree',\n",
       " 'wind_dir',\n",
       " 'pressure_mb',\n",
       " 'pressure_in',\n",
       " 'precip_mm',\n",
       " 'precip_in',\n",
       " 'humidity',\n",
       " 'cloud',\n",
       " 'feelslike_c',\n",
       " 'feelslike_f',\n",
       " 'windchill_c',\n",
       " 'windchill_f',\n",
       " 'heatindex_c',\n",
       " 'heatindex_f',\n",
       " 'dewpoint_c',\n",
       " 'dewpoint_f',\n",
       " 'vis_km',\n",
       " 'vis_miles',\n",
       " 'uv',\n",
       " 'gust_mph',\n",
       " 'gust_kph',\n",
       " 'text']"
      ]
     },
     "execution_count": 12,
     "metadata": {},
     "output_type": "execute_result"
    }
   ],
   "source": [
    "weather_df.columns.to_list()"
   ]
  },
  {
   "cell_type": "code",
   "execution_count": 13,
   "metadata": {},
   "outputs": [],
   "source": [
    "weather_df.rename(columns = {'text':'description'},inplace=True)"
   ]
  },
  {
   "cell_type": "code",
   "execution_count": 14,
   "metadata": {},
   "outputs": [
    {
     "data": {
      "text/html": [
       "<div>\n",
       "<style scoped>\n",
       "    .dataframe tbody tr th:only-of-type {\n",
       "        vertical-align: middle;\n",
       "    }\n",
       "\n",
       "    .dataframe tbody tr th {\n",
       "        vertical-align: top;\n",
       "    }\n",
       "\n",
       "    .dataframe thead th {\n",
       "        text-align: right;\n",
       "    }\n",
       "</style>\n",
       "<table border=\"1\" class=\"dataframe\">\n",
       "  <thead>\n",
       "    <tr style=\"text-align: right;\">\n",
       "      <th></th>\n",
       "      <th>last_updated_epoch</th>\n",
       "      <th>last_updated</th>\n",
       "      <th>temp_c</th>\n",
       "      <th>temp_f</th>\n",
       "      <th>is_day</th>\n",
       "      <th>wind_mph</th>\n",
       "      <th>wind_kph</th>\n",
       "      <th>wind_degree</th>\n",
       "      <th>wind_dir</th>\n",
       "      <th>pressure_mb</th>\n",
       "      <th>...</th>\n",
       "      <th>heatindex_c</th>\n",
       "      <th>heatindex_f</th>\n",
       "      <th>dewpoint_c</th>\n",
       "      <th>dewpoint_f</th>\n",
       "      <th>vis_km</th>\n",
       "      <th>vis_miles</th>\n",
       "      <th>uv</th>\n",
       "      <th>gust_mph</th>\n",
       "      <th>gust_kph</th>\n",
       "      <th>description</th>\n",
       "    </tr>\n",
       "  </thead>\n",
       "  <tbody>\n",
       "    <tr>\n",
       "      <th>0</th>\n",
       "      <td>1724246100</td>\n",
       "      <td>2024-08-21 14:15</td>\n",
       "      <td>20.3</td>\n",
       "      <td>68.5</td>\n",
       "      <td>1</td>\n",
       "      <td>12.5</td>\n",
       "      <td>20.2</td>\n",
       "      <td>260</td>\n",
       "      <td>W</td>\n",
       "      <td>1017.0</td>\n",
       "      <td>...</td>\n",
       "      <td>24.0</td>\n",
       "      <td>75.1</td>\n",
       "      <td>7.7</td>\n",
       "      <td>45.8</td>\n",
       "      <td>10.0</td>\n",
       "      <td>6.0</td>\n",
       "      <td>6.0</td>\n",
       "      <td>15.9</td>\n",
       "      <td>25.7</td>\n",
       "      <td>Partly cloudy</td>\n",
       "    </tr>\n",
       "  </tbody>\n",
       "</table>\n",
       "<p>1 rows × 29 columns</p>\n",
       "</div>"
      ],
      "text/plain": [
       "   last_updated_epoch      last_updated  temp_c  temp_f  is_day  wind_mph  \\\n",
       "0          1724246100  2024-08-21 14:15    20.3    68.5       1      12.5   \n",
       "\n",
       "   wind_kph  wind_degree wind_dir  pressure_mb  ...  heatindex_c  heatindex_f  \\\n",
       "0      20.2          260        W       1017.0  ...         24.0         75.1   \n",
       "\n",
       "   dewpoint_c  dewpoint_f  vis_km  vis_miles   uv  gust_mph  gust_kph  \\\n",
       "0         7.7        45.8    10.0        6.0  6.0      15.9      25.7   \n",
       "\n",
       "     description  \n",
       "0  Partly cloudy  \n",
       "\n",
       "[1 rows x 29 columns]"
      ]
     },
     "execution_count": 14,
     "metadata": {},
     "output_type": "execute_result"
    }
   ],
   "source": [
    "weather_df"
   ]
  },
  {
   "cell_type": "code",
   "execution_count": 15,
   "metadata": {},
   "outputs": [],
   "source": [
    "# Make a copy so we can extract 'condition' later on.\n",
    "#all_data_copy = all_data.copy()"
   ]
  },
  {
   "cell_type": "code",
   "execution_count": 16,
   "metadata": {},
   "outputs": [],
   "source": [
    "#all_data_copy"
   ]
  },
  {
   "cell_type": "code",
   "execution_count": 17,
   "metadata": {},
   "outputs": [],
   "source": [
    "#all_data.pop('condition')"
   ]
  },
  {
   "cell_type": "code",
   "execution_count": 18,
   "metadata": {},
   "outputs": [],
   "source": [
    "#all_data"
   ]
  },
  {
   "cell_type": "code",
   "execution_count": 19,
   "metadata": {},
   "outputs": [],
   "source": [
    "# condition = all_data_copy['condition']\n",
    "# condition.pop('icon')\n",
    "# condition.pop('code')"
   ]
  },
  {
   "cell_type": "code",
   "execution_count": 20,
   "metadata": {},
   "outputs": [],
   "source": [
    "#condition"
   ]
  },
  {
   "cell_type": "code",
   "execution_count": 21,
   "metadata": {},
   "outputs": [],
   "source": [
    "# df = pd.DataFrame([data['location']])\n",
    "# df"
   ]
  }
 ],
 "metadata": {
  "kernelspec": {
   "display_name": "Python 3",
   "language": "python",
   "name": "python3"
  },
  "language_info": {
   "codemirror_mode": {
    "name": "ipython",
    "version": 3
   },
   "file_extension": ".py",
   "mimetype": "text/x-python",
   "name": "python",
   "nbconvert_exporter": "python",
   "pygments_lexer": "ipython3",
   "version": "3.11.9"
  }
 },
 "nbformat": 4,
 "nbformat_minor": 2
}
