{
 "cells": [
  {
   "cell_type": "code",
   "execution_count": 1,
   "metadata": {},
   "outputs": [
    {
     "name": "stderr",
     "output_type": "stream",
     "text": [
      "C:\\Users\\44771\\AppData\\Local\\Packages\\PythonSoftwareFoundation.Python.3.11_qbz5n2kfra8p0\\LocalCache\\local-packages\\Python311\\site-packages\\airflow\\__init__.py:36: RuntimeWarning: Airflow currently can be run on POSIX-compliant Operating Systems. For development, it is regularly tested on fairly modern Linux Distros and recent versions of macOS. On Windows you can run it via WSL2 (Windows Subsystem for Linux 2) or via Linux Containers. The work to add Windows support is tracked via https://github.com/apache/airflow/issues/10388, but it is not a high priority.\n",
      "  warnings.warn(\n",
      "OSError while attempting to symlink the latest log directory\n"
     ]
    },
    {
     "data": {
      "text/html": [
       "<pre style=\"white-space:pre;overflow-x:auto;line-height:normal;font-family:Menlo,'DejaVu Sans Mono',consolas,'Courier New',monospace\"><span style=\"color: #808000; text-decoration-color: #808000; font-weight: bold\">C:\\Users\\</span><span style=\"color: #808000; text-decoration-color: #808000; font-weight: bold\">44771</span><span style=\"color: #808000; text-decoration-color: #808000; font-weight: bold\">\\AppData\\Local\\Packages\\PythonSoftwareFoundation.Python.</span><span style=\"color: #808000; text-decoration-color: #808000; font-weight: bold\">3.</span><span style=\"color: #808000; text-decoration-color: #808000; font-weight: bold\">11_qbz5n2kfra8p0\\LocalCache\\local-packages\\Python311\\site-packages\\airflow\\plugins_manager.py:</span><span style=\"color: #808000; text-decoration-color: #808000; font-weight: bold\">30</span><span style=\"color: #808000; text-decoration-color: #808000; font-weight: bold\"> DeprecationWarning</span><span style=\"color: #808000; text-decoration-color: #808000\">: </span><span style=\"color: #808000; text-decoration-color: #808000\">'cgitb'</span><span style=\"color: #808000; text-decoration-color: #808000\"> is deprecated and slated for removal in Python </span><span style=\"color: #808000; text-decoration-color: #808000; font-weight: bold\">3.13</span>\n",
       "</pre>\n"
      ],
      "text/plain": [
       "\u001b[1;33mC:\\Users\\\u001b[0m\u001b[1;33m44771\u001b[0m\u001b[1;33m\\AppData\\Local\\Packages\\PythonSoftwareFoundation.Python.\u001b[0m\u001b[1;33m3.\u001b[0m\u001b[1;33m11_qbz5n2kfra8p0\\LocalCache\\local-packages\\Python311\\site-packages\\airflow\\plugins_manager.py:\u001b[0m\u001b[1;33m30\u001b[0m\u001b[1;33m DeprecationWarning\u001b[0m\u001b[33m: \u001b[0m\u001b[33m'cgitb'\u001b[0m\u001b[33m is deprecated and slated for removal in Python \u001b[0m\u001b[1;33m3.13\u001b[0m\n"
      ]
     },
     "metadata": {},
     "output_type": "display_data"
    },
    {
     "data": {
      "text/html": [
       "<pre style=\"white-space:pre;overflow-x:auto;line-height:normal;font-family:Menlo,'DejaVu Sans Mono',consolas,'Courier New',monospace\"><span style=\"color: #808000; text-decoration-color: #808000; font-weight: bold\">C:\\Users\\</span><span style=\"color: #808000; text-decoration-color: #808000; font-weight: bold\">44771</span><span style=\"color: #808000; text-decoration-color: #808000; font-weight: bold\">\\AppData\\Local\\Temp\\ipykernel_30320\\</span><span style=\"color: #808000; text-decoration-color: #808000; font-weight: bold\">134980821.</span><span style=\"color: #808000; text-decoration-color: #808000; font-weight: bold\">py:</span><span style=\"color: #808000; text-decoration-color: #808000; font-weight: bold\">2</span><span style=\"color: #808000; text-decoration-color: #808000; font-weight: bold\"> DeprecationWarning</span><span style=\"color: #808000; text-decoration-color: #808000\">: The `airflow.operators.python_operator.PythonOperator` class is deprecated. Please use `</span><span style=\"color: #808000; text-decoration-color: #808000\">'airflow.operators.python.PythonOperator'</span><span style=\"color: #808000; text-decoration-color: #808000\">`.</span>\n",
       "</pre>\n"
      ],
      "text/plain": [
       "\u001b[1;33mC:\\Users\\\u001b[0m\u001b[1;33m44771\u001b[0m\u001b[1;33m\\AppData\\Local\\Temp\\ipykernel_30320\\\u001b[0m\u001b[1;33m134980821.\u001b[0m\u001b[1;33mpy:\u001b[0m\u001b[1;33m2\u001b[0m\u001b[1;33m DeprecationWarning\u001b[0m\u001b[33m: The `airflow.operators.python_operator.PythonOperator` class is deprecated. Please use `\u001b[0m\u001b[33m'airflow.operators.python.PythonOperator'\u001b[0m\u001b[33m`.\u001b[0m\n"
      ]
     },
     "metadata": {},
     "output_type": "display_data"
    }
   ],
   "source": [
    "from airflow import DAG\n",
    "from airflow.operators.python_operator import PythonOperator\n",
    "from datetime import datetime, timedelta\n",
    "import requests\n",
    "import pandas as pd"
   ]
  },
  {
   "cell_type": "code",
   "execution_count": 2,
   "metadata": {},
   "outputs": [
    {
     "data": {
      "text/html": [
       "<pre style=\"white-space:pre;overflow-x:auto;line-height:normal;font-family:Menlo,'DejaVu Sans Mono',consolas,'Courier New',monospace\"><span style=\"color: #808000; text-decoration-color: #808000; font-weight: bold\">C:\\Users\\</span><span style=\"color: #808000; text-decoration-color: #808000; font-weight: bold\">44771</span><span style=\"color: #808000; text-decoration-color: #808000; font-weight: bold\">\\AppData\\Local\\Temp\\ipykernel_30320\\</span><span style=\"color: #808000; text-decoration-color: #808000; font-weight: bold\">242979740.</span><span style=\"color: #808000; text-decoration-color: #808000; font-weight: bold\">py:</span><span style=\"color: #808000; text-decoration-color: #808000; font-weight: bold\">50</span><span style=\"color: #808000; text-decoration-color: #808000; font-weight: bold\"> RemovedInAirflow3Warning</span><span style=\"color: #808000; text-decoration-color: #808000\">: Param `schedule_interval` is deprecated and will be removed in a future release. Please use `schedule` instead.</span>\n",
       "</pre>\n"
      ],
      "text/plain": [
       "\u001b[1;33mC:\\Users\\\u001b[0m\u001b[1;33m44771\u001b[0m\u001b[1;33m\\AppData\\Local\\Temp\\ipykernel_30320\\\u001b[0m\u001b[1;33m242979740.\u001b[0m\u001b[1;33mpy:\u001b[0m\u001b[1;33m50\u001b[0m\u001b[1;33m RemovedInAirflow3Warning\u001b[0m\u001b[33m: Param `schedule_interval` is deprecated and will be removed in a future release. Please use `schedule` instead.\u001b[0m\n"
      ]
     },
     "metadata": {},
     "output_type": "display_data"
    },
    {
     "data": {
      "text/plain": [
       "<Task(PythonOperator): fetch_weather_data>"
      ]
     },
     "execution_count": 2,
     "metadata": {},
     "output_type": "execute_result"
    }
   ],
   "source": [
    "def fetch_weather_data():\n",
    "    api_key = 'ab2ed3d3edb04581b6a151349242008'\n",
    "    url = f\"http://api.weatherapi.com/v1/current.json?key={api_key}&q=London\"\n",
    "\n",
    "    # Parameters to be sent with the GET request\n",
    "    params = {\n",
    "        'key': api_key,         # Your API key\n",
    "        'q': 'London'       # The location for which you want the weather data\n",
    "    }\n",
    "\n",
    "    # Making the GET request\n",
    "    response = requests.get(url, params=params)\n",
    "\n",
    "    # Handling the response\n",
    "    if response.status_code == 200:\n",
    "        # If the request was successful, print the JSON data\n",
    "        data = response.json()\n",
    "        data\n",
    "    else:\n",
    "        # If the request failed, print the status code\n",
    "        print(f\"Request failed with status code: {response.status_code}\")\n",
    "\n",
    "    all_data = data['current']\n",
    "\n",
    "    condition = all_data['condition']\n",
    "    condition.pop('icon')\n",
    "    condition.pop('code')\n",
    "\n",
    "    all_data.pop('condition')\n",
    "\n",
    "    weather_df = pd.DataFrame([all_data])\n",
    "    condition_df = pd.DataFrame([condition])\n",
    "\n",
    "    weather_df = pd.concat([weather_df,condition_df],axis=1)\n",
    "    weather_df.rename(columns = {'text':'description'},inplace=True)\n",
    "\n",
    "    weather_df.to_csv('weather_data.csv', mode='a', header=False, index=False)\n",
    "\n",
    "# Define the default arguments for the DAG\n",
    "default_args = {\n",
    "    'owner': 'airflow',\n",
    "    'depends_on_past': False,\n",
    "    'email_on_failure': False,\n",
    "    'email_on_retry': False,\n",
    "    'retries': 1,\n",
    "    'retry_delay': timedelta(minutes=5),\n",
    "}\n",
    "\n",
    "# Define the DAG\n",
    "dag = DAG(\n",
    "    'weather_data_dag',\n",
    "    default_args=default_args,\n",
    "    description='Fetch weather data every few minutes',\n",
    "    schedule_interval=timedelta(minutes=15),  # Run every 15 minutes\n",
    "    start_date=datetime(2024, 1, 1),\n",
    "    catchup=False,\n",
    ")\n",
    "\n",
    "# Define the task\n",
    "fetch_weather_task = PythonOperator(\n",
    "    task_id='fetch_weather_data',\n",
    "    python_callable=fetch_weather_data,\n",
    "    dag=dag,\n",
    ")\n",
    "\n",
    "fetch_weather_task"
   ]
  }
 ],
 "metadata": {
  "kernelspec": {
   "display_name": "Python 3",
   "language": "python",
   "name": "python3"
  },
  "language_info": {
   "codemirror_mode": {
    "name": "ipython",
    "version": 3
   },
   "file_extension": ".py",
   "mimetype": "text/x-python",
   "name": "python",
   "nbconvert_exporter": "python",
   "pygments_lexer": "ipython3",
   "version": "3.11.9"
  }
 },
 "nbformat": 4,
 "nbformat_minor": 2
}
