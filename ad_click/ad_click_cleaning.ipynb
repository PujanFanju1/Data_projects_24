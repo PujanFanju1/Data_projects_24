{
 "cells": [
  {
   "cell_type": "code",
   "execution_count": 1,
   "metadata": {},
   "outputs": [],
   "source": [
    "import pandas as pd\n",
    "\n",
    "df = pd.read_csv('ad_click.csv')"
   ]
  },
  {
   "cell_type": "code",
   "execution_count": 2,
   "metadata": {},
   "outputs": [
    {
     "name": "stdout",
     "output_type": "stream",
     "text": [
      "<class 'pandas.core.frame.DataFrame'>\n",
      "RangeIndex: 10000 entries, 0 to 9999\n",
      "Data columns (total 9 columns):\n",
      " #   Column            Non-Null Count  Dtype  \n",
      "---  ------            --------------  -----  \n",
      " 0   id                10000 non-null  int64  \n",
      " 1   full_name         10000 non-null  object \n",
      " 2   age               5234 non-null   float64\n",
      " 3   gender            5307 non-null   object \n",
      " 4   device_type       8000 non-null   object \n",
      " 5   ad_position       8000 non-null   object \n",
      " 6   browsing_history  5218 non-null   object \n",
      " 7   time_of_day       8000 non-null   object \n",
      " 8   click             10000 non-null  int64  \n",
      "dtypes: float64(1), int64(2), object(6)\n",
      "memory usage: 703.3+ KB\n"
     ]
    }
   ],
   "source": [
    "df.info()"
   ]
  },
  {
   "cell_type": "code",
   "execution_count": 3,
   "metadata": {},
   "outputs": [
    {
     "data": {
      "text/html": [
       "<div>\n",
       "<style scoped>\n",
       "    .dataframe tbody tr th:only-of-type {\n",
       "        vertical-align: middle;\n",
       "    }\n",
       "\n",
       "    .dataframe tbody tr th {\n",
       "        vertical-align: top;\n",
       "    }\n",
       "\n",
       "    .dataframe thead th {\n",
       "        text-align: right;\n",
       "    }\n",
       "</style>\n",
       "<table border=\"1\" class=\"dataframe\">\n",
       "  <thead>\n",
       "    <tr style=\"text-align: right;\">\n",
       "      <th></th>\n",
       "      <th>id</th>\n",
       "      <th>age</th>\n",
       "      <th>click</th>\n",
       "    </tr>\n",
       "  </thead>\n",
       "  <tbody>\n",
       "    <tr>\n",
       "      <th>count</th>\n",
       "      <td>10000.000000</td>\n",
       "      <td>5234.000000</td>\n",
       "      <td>10000.000000</td>\n",
       "    </tr>\n",
       "    <tr>\n",
       "      <th>mean</th>\n",
       "      <td>5060.211400</td>\n",
       "      <td>40.197363</td>\n",
       "      <td>0.650000</td>\n",
       "    </tr>\n",
       "    <tr>\n",
       "      <th>std</th>\n",
       "      <td>2861.758265</td>\n",
       "      <td>13.126420</td>\n",
       "      <td>0.476993</td>\n",
       "    </tr>\n",
       "    <tr>\n",
       "      <th>min</th>\n",
       "      <td>5.000000</td>\n",
       "      <td>18.000000</td>\n",
       "      <td>0.000000</td>\n",
       "    </tr>\n",
       "    <tr>\n",
       "      <th>25%</th>\n",
       "      <td>2529.000000</td>\n",
       "      <td>29.000000</td>\n",
       "      <td>0.000000</td>\n",
       "    </tr>\n",
       "    <tr>\n",
       "      <th>50%</th>\n",
       "      <td>5218.000000</td>\n",
       "      <td>39.500000</td>\n",
       "      <td>1.000000</td>\n",
       "    </tr>\n",
       "    <tr>\n",
       "      <th>75%</th>\n",
       "      <td>7466.000000</td>\n",
       "      <td>52.000000</td>\n",
       "      <td>1.000000</td>\n",
       "    </tr>\n",
       "    <tr>\n",
       "      <th>max</th>\n",
       "      <td>10000.000000</td>\n",
       "      <td>64.000000</td>\n",
       "      <td>1.000000</td>\n",
       "    </tr>\n",
       "  </tbody>\n",
       "</table>\n",
       "</div>"
      ],
      "text/plain": [
       "                 id          age         click\n",
       "count  10000.000000  5234.000000  10000.000000\n",
       "mean    5060.211400    40.197363      0.650000\n",
       "std     2861.758265    13.126420      0.476993\n",
       "min        5.000000    18.000000      0.000000\n",
       "25%     2529.000000    29.000000      0.000000\n",
       "50%     5218.000000    39.500000      1.000000\n",
       "75%     7466.000000    52.000000      1.000000\n",
       "max    10000.000000    64.000000      1.000000"
      ]
     },
     "execution_count": 3,
     "metadata": {},
     "output_type": "execute_result"
    }
   ],
   "source": [
    "df.describe()"
   ]
  },
  {
   "cell_type": "code",
   "execution_count": 4,
   "metadata": {},
   "outputs": [],
   "source": [
    "# Converting all the columns to the right datatype.\n",
    "df['gender'] = df['gender'].astype('category')\n",
    "df['device_type'] = df['device_type'].astype('category')\n",
    "df['ad_position'] = df['ad_position'].astype('category')\n",
    "df['browsing_history'] = df['browsing_history'].astype('category')\n",
    "df['time_of_day'] = df['time_of_day'].astype('category')"
   ]
  },
  {
   "cell_type": "code",
   "execution_count": 5,
   "metadata": {},
   "outputs": [
    {
     "data": {
      "text/html": [
       "<div>\n",
       "<style scoped>\n",
       "    .dataframe tbody tr th:only-of-type {\n",
       "        vertical-align: middle;\n",
       "    }\n",
       "\n",
       "    .dataframe tbody tr th {\n",
       "        vertical-align: top;\n",
       "    }\n",
       "\n",
       "    .dataframe thead th {\n",
       "        text-align: right;\n",
       "    }\n",
       "</style>\n",
       "<table border=\"1\" class=\"dataframe\">\n",
       "  <thead>\n",
       "    <tr style=\"text-align: right;\">\n",
       "      <th></th>\n",
       "      <th>id</th>\n",
       "      <th>full_name</th>\n",
       "      <th>age</th>\n",
       "      <th>gender</th>\n",
       "      <th>device_type</th>\n",
       "      <th>ad_position</th>\n",
       "      <th>browsing_history</th>\n",
       "      <th>time_of_day</th>\n",
       "      <th>click</th>\n",
       "    </tr>\n",
       "  </thead>\n",
       "  <tbody>\n",
       "    <tr>\n",
       "      <th>0</th>\n",
       "      <td>670</td>\n",
       "      <td>User670</td>\n",
       "      <td>22.0</td>\n",
       "      <td>NaN</td>\n",
       "      <td>Desktop</td>\n",
       "      <td>Top</td>\n",
       "      <td>Shopping</td>\n",
       "      <td>Afternoon</td>\n",
       "      <td>1</td>\n",
       "    </tr>\n",
       "    <tr>\n",
       "      <th>1</th>\n",
       "      <td>3044</td>\n",
       "      <td>User3044</td>\n",
       "      <td>NaN</td>\n",
       "      <td>Male</td>\n",
       "      <td>Desktop</td>\n",
       "      <td>Top</td>\n",
       "      <td>NaN</td>\n",
       "      <td>NaN</td>\n",
       "      <td>1</td>\n",
       "    </tr>\n",
       "    <tr>\n",
       "      <th>2</th>\n",
       "      <td>5912</td>\n",
       "      <td>User5912</td>\n",
       "      <td>41.0</td>\n",
       "      <td>Non-Binary</td>\n",
       "      <td>NaN</td>\n",
       "      <td>Side</td>\n",
       "      <td>Education</td>\n",
       "      <td>Night</td>\n",
       "      <td>1</td>\n",
       "    </tr>\n",
       "    <tr>\n",
       "      <th>3</th>\n",
       "      <td>5418</td>\n",
       "      <td>User5418</td>\n",
       "      <td>34.0</td>\n",
       "      <td>Male</td>\n",
       "      <td>NaN</td>\n",
       "      <td>NaN</td>\n",
       "      <td>Entertainment</td>\n",
       "      <td>Evening</td>\n",
       "      <td>1</td>\n",
       "    </tr>\n",
       "    <tr>\n",
       "      <th>4</th>\n",
       "      <td>9452</td>\n",
       "      <td>User9452</td>\n",
       "      <td>39.0</td>\n",
       "      <td>Non-Binary</td>\n",
       "      <td>NaN</td>\n",
       "      <td>NaN</td>\n",
       "      <td>Social Media</td>\n",
       "      <td>Morning</td>\n",
       "      <td>0</td>\n",
       "    </tr>\n",
       "    <tr>\n",
       "      <th>...</th>\n",
       "      <td>...</td>\n",
       "      <td>...</td>\n",
       "      <td>...</td>\n",
       "      <td>...</td>\n",
       "      <td>...</td>\n",
       "      <td>...</td>\n",
       "      <td>...</td>\n",
       "      <td>...</td>\n",
       "      <td>...</td>\n",
       "    </tr>\n",
       "    <tr>\n",
       "      <th>9995</th>\n",
       "      <td>8510</td>\n",
       "      <td>User8510</td>\n",
       "      <td>NaN</td>\n",
       "      <td>NaN</td>\n",
       "      <td>Mobile</td>\n",
       "      <td>Top</td>\n",
       "      <td>Education</td>\n",
       "      <td>NaN</td>\n",
       "      <td>0</td>\n",
       "    </tr>\n",
       "    <tr>\n",
       "      <th>9996</th>\n",
       "      <td>7843</td>\n",
       "      <td>User7843</td>\n",
       "      <td>NaN</td>\n",
       "      <td>Female</td>\n",
       "      <td>Desktop</td>\n",
       "      <td>Bottom</td>\n",
       "      <td>Entertainment</td>\n",
       "      <td>NaN</td>\n",
       "      <td>0</td>\n",
       "    </tr>\n",
       "    <tr>\n",
       "      <th>9997</th>\n",
       "      <td>3914</td>\n",
       "      <td>User3914</td>\n",
       "      <td>NaN</td>\n",
       "      <td>Male</td>\n",
       "      <td>Mobile</td>\n",
       "      <td>Side</td>\n",
       "      <td>NaN</td>\n",
       "      <td>Morning</td>\n",
       "      <td>0</td>\n",
       "    </tr>\n",
       "    <tr>\n",
       "      <th>9998</th>\n",
       "      <td>7924</td>\n",
       "      <td>User7924</td>\n",
       "      <td>NaN</td>\n",
       "      <td>NaN</td>\n",
       "      <td>Desktop</td>\n",
       "      <td>NaN</td>\n",
       "      <td>Shopping</td>\n",
       "      <td>Morning</td>\n",
       "      <td>1</td>\n",
       "    </tr>\n",
       "    <tr>\n",
       "      <th>9999</th>\n",
       "      <td>3056</td>\n",
       "      <td>User3056</td>\n",
       "      <td>44.0</td>\n",
       "      <td>Male</td>\n",
       "      <td>Tablet</td>\n",
       "      <td>Top</td>\n",
       "      <td>Social Media</td>\n",
       "      <td>Morning</td>\n",
       "      <td>0</td>\n",
       "    </tr>\n",
       "  </tbody>\n",
       "</table>\n",
       "<p>10000 rows × 9 columns</p>\n",
       "</div>"
      ],
      "text/plain": [
       "        id full_name   age      gender device_type ad_position  \\\n",
       "0      670   User670  22.0         NaN     Desktop         Top   \n",
       "1     3044  User3044   NaN        Male     Desktop         Top   \n",
       "2     5912  User5912  41.0  Non-Binary         NaN        Side   \n",
       "3     5418  User5418  34.0        Male         NaN         NaN   \n",
       "4     9452  User9452  39.0  Non-Binary         NaN         NaN   \n",
       "...    ...       ...   ...         ...         ...         ...   \n",
       "9995  8510  User8510   NaN         NaN      Mobile         Top   \n",
       "9996  7843  User7843   NaN      Female     Desktop      Bottom   \n",
       "9997  3914  User3914   NaN        Male      Mobile        Side   \n",
       "9998  7924  User7924   NaN         NaN     Desktop         NaN   \n",
       "9999  3056  User3056  44.0        Male      Tablet         Top   \n",
       "\n",
       "     browsing_history time_of_day  click  \n",
       "0            Shopping   Afternoon      1  \n",
       "1                 NaN         NaN      1  \n",
       "2           Education       Night      1  \n",
       "3       Entertainment     Evening      1  \n",
       "4        Social Media     Morning      0  \n",
       "...               ...         ...    ...  \n",
       "9995        Education         NaN      0  \n",
       "9996    Entertainment         NaN      0  \n",
       "9997              NaN     Morning      0  \n",
       "9998         Shopping     Morning      1  \n",
       "9999     Social Media     Morning      0  \n",
       "\n",
       "[10000 rows x 9 columns]"
      ]
     },
     "execution_count": 5,
     "metadata": {},
     "output_type": "execute_result"
    }
   ],
   "source": [
    "df"
   ]
  },
  {
   "cell_type": "markdown",
   "metadata": {},
   "source": [
    "Not sure whether dropping the null values will give the best results for predicting ad click or whether it's better to leave it in. I create 2 datasets one with the null values and one without to try and test them both. "
   ]
  },
  {
   "cell_type": "code",
   "execution_count": 6,
   "metadata": {},
   "outputs": [],
   "source": [
    "df_no_nulls = df.dropna()"
   ]
  },
  {
   "cell_type": "code",
   "execution_count": 7,
   "metadata": {},
   "outputs": [
    {
     "data": {
      "text/html": [
       "<div>\n",
       "<style scoped>\n",
       "    .dataframe tbody tr th:only-of-type {\n",
       "        vertical-align: middle;\n",
       "    }\n",
       "\n",
       "    .dataframe tbody tr th {\n",
       "        vertical-align: top;\n",
       "    }\n",
       "\n",
       "    .dataframe thead th {\n",
       "        text-align: right;\n",
       "    }\n",
       "</style>\n",
       "<table border=\"1\" class=\"dataframe\">\n",
       "  <thead>\n",
       "    <tr style=\"text-align: right;\">\n",
       "      <th></th>\n",
       "      <th>id</th>\n",
       "      <th>full_name</th>\n",
       "      <th>age</th>\n",
       "      <th>gender</th>\n",
       "      <th>device_type</th>\n",
       "      <th>ad_position</th>\n",
       "      <th>browsing_history</th>\n",
       "      <th>time_of_day</th>\n",
       "      <th>click</th>\n",
       "    </tr>\n",
       "  </thead>\n",
       "  <tbody>\n",
       "    <tr>\n",
       "      <th>17</th>\n",
       "      <td>188</td>\n",
       "      <td>User188</td>\n",
       "      <td>56.0</td>\n",
       "      <td>Female</td>\n",
       "      <td>Tablet</td>\n",
       "      <td>Bottom</td>\n",
       "      <td>News</td>\n",
       "      <td>Morning</td>\n",
       "      <td>1</td>\n",
       "    </tr>\n",
       "    <tr>\n",
       "      <th>25</th>\n",
       "      <td>4890</td>\n",
       "      <td>User4890</td>\n",
       "      <td>43.0</td>\n",
       "      <td>Male</td>\n",
       "      <td>Tablet</td>\n",
       "      <td>Bottom</td>\n",
       "      <td>Education</td>\n",
       "      <td>Afternoon</td>\n",
       "      <td>1</td>\n",
       "    </tr>\n",
       "    <tr>\n",
       "      <th>33</th>\n",
       "      <td>4985</td>\n",
       "      <td>User4985</td>\n",
       "      <td>37.0</td>\n",
       "      <td>Male</td>\n",
       "      <td>Mobile</td>\n",
       "      <td>Top</td>\n",
       "      <td>News</td>\n",
       "      <td>Evening</td>\n",
       "      <td>0</td>\n",
       "    </tr>\n",
       "    <tr>\n",
       "      <th>52</th>\n",
       "      <td>9888</td>\n",
       "      <td>User9888</td>\n",
       "      <td>49.0</td>\n",
       "      <td>Male</td>\n",
       "      <td>Mobile</td>\n",
       "      <td>Top</td>\n",
       "      <td>News</td>\n",
       "      <td>Morning</td>\n",
       "      <td>1</td>\n",
       "    </tr>\n",
       "    <tr>\n",
       "      <th>102</th>\n",
       "      <td>8201</td>\n",
       "      <td>User8201</td>\n",
       "      <td>59.0</td>\n",
       "      <td>Female</td>\n",
       "      <td>Desktop</td>\n",
       "      <td>Bottom</td>\n",
       "      <td>Social Media</td>\n",
       "      <td>Morning</td>\n",
       "      <td>0</td>\n",
       "    </tr>\n",
       "    <tr>\n",
       "      <th>...</th>\n",
       "      <td>...</td>\n",
       "      <td>...</td>\n",
       "      <td>...</td>\n",
       "      <td>...</td>\n",
       "      <td>...</td>\n",
       "      <td>...</td>\n",
       "      <td>...</td>\n",
       "      <td>...</td>\n",
       "      <td>...</td>\n",
       "    </tr>\n",
       "    <tr>\n",
       "      <th>9951</th>\n",
       "      <td>7268</td>\n",
       "      <td>User7268</td>\n",
       "      <td>28.0</td>\n",
       "      <td>Female</td>\n",
       "      <td>Desktop</td>\n",
       "      <td>Bottom</td>\n",
       "      <td>News</td>\n",
       "      <td>Evening</td>\n",
       "      <td>1</td>\n",
       "    </tr>\n",
       "    <tr>\n",
       "      <th>9952</th>\n",
       "      <td>5912</td>\n",
       "      <td>User5912</td>\n",
       "      <td>41.0</td>\n",
       "      <td>Non-Binary</td>\n",
       "      <td>Mobile</td>\n",
       "      <td>Side</td>\n",
       "      <td>Education</td>\n",
       "      <td>Night</td>\n",
       "      <td>1</td>\n",
       "    </tr>\n",
       "    <tr>\n",
       "      <th>9960</th>\n",
       "      <td>9638</td>\n",
       "      <td>User9638</td>\n",
       "      <td>64.0</td>\n",
       "      <td>Non-Binary</td>\n",
       "      <td>Desktop</td>\n",
       "      <td>Top</td>\n",
       "      <td>Entertainment</td>\n",
       "      <td>Morning</td>\n",
       "      <td>0</td>\n",
       "    </tr>\n",
       "    <tr>\n",
       "      <th>9986</th>\n",
       "      <td>5574</td>\n",
       "      <td>User5574</td>\n",
       "      <td>52.0</td>\n",
       "      <td>Female</td>\n",
       "      <td>Desktop</td>\n",
       "      <td>Bottom</td>\n",
       "      <td>Shopping</td>\n",
       "      <td>Afternoon</td>\n",
       "      <td>1</td>\n",
       "    </tr>\n",
       "    <tr>\n",
       "      <th>9999</th>\n",
       "      <td>3056</td>\n",
       "      <td>User3056</td>\n",
       "      <td>44.0</td>\n",
       "      <td>Male</td>\n",
       "      <td>Tablet</td>\n",
       "      <td>Top</td>\n",
       "      <td>Social Media</td>\n",
       "      <td>Morning</td>\n",
       "      <td>0</td>\n",
       "    </tr>\n",
       "  </tbody>\n",
       "</table>\n",
       "<p>816 rows × 9 columns</p>\n",
       "</div>"
      ],
      "text/plain": [
       "        id full_name   age      gender device_type ad_position  \\\n",
       "17     188   User188  56.0      Female      Tablet      Bottom   \n",
       "25    4890  User4890  43.0        Male      Tablet      Bottom   \n",
       "33    4985  User4985  37.0        Male      Mobile         Top   \n",
       "52    9888  User9888  49.0        Male      Mobile         Top   \n",
       "102   8201  User8201  59.0      Female     Desktop      Bottom   \n",
       "...    ...       ...   ...         ...         ...         ...   \n",
       "9951  7268  User7268  28.0      Female     Desktop      Bottom   \n",
       "9952  5912  User5912  41.0  Non-Binary      Mobile        Side   \n",
       "9960  9638  User9638  64.0  Non-Binary     Desktop         Top   \n",
       "9986  5574  User5574  52.0      Female     Desktop      Bottom   \n",
       "9999  3056  User3056  44.0        Male      Tablet         Top   \n",
       "\n",
       "     browsing_history time_of_day  click  \n",
       "17               News     Morning      1  \n",
       "25          Education   Afternoon      1  \n",
       "33               News     Evening      0  \n",
       "52               News     Morning      1  \n",
       "102      Social Media     Morning      0  \n",
       "...               ...         ...    ...  \n",
       "9951             News     Evening      1  \n",
       "9952        Education       Night      1  \n",
       "9960    Entertainment     Morning      0  \n",
       "9986         Shopping   Afternoon      1  \n",
       "9999     Social Media     Morning      0  \n",
       "\n",
       "[816 rows x 9 columns]"
      ]
     },
     "execution_count": 7,
     "metadata": {},
     "output_type": "execute_result"
    }
   ],
   "source": [
    "# Without any nulls, the dataset has 816 records.\n",
    "df_no_nulls"
   ]
  },
  {
   "cell_type": "code",
   "execution_count": 8,
   "metadata": {},
   "outputs": [],
   "source": [
    "df.to_csv('ad_click_cleaned.csv')\n",
    "df_no_nulls.to_csv('ad_click_no_nulls_cleaned.csv')"
   ]
  },
  {
   "cell_type": "code",
   "execution_count": 9,
   "metadata": {},
   "outputs": [],
   "source": [
    "click_df = df[df['click']==1]\n",
    "not_click_df = df[df['click']==0]"
   ]
  },
  {
   "cell_type": "code",
   "execution_count": 10,
   "metadata": {},
   "outputs": [
    {
     "name": "stdout",
     "output_type": "stream",
     "text": [
      "overall:\n",
      "gender    \n",
      "Female        34.558131\n",
      "Male          34.105898\n",
      "Non-Binary    31.335971\n",
      "Name: proportion, dtype: float64\n",
      "\n",
      "Clicked on ad:\n",
      "gender    \n",
      "Female        34.966657\n",
      "Male          34.531748\n",
      "Non-Binary    30.501595\n",
      "Name: proportion, dtype: float64\n"
     ]
    }
   ],
   "source": [
    "print('overall:')\n",
    "print(df[['gender']].value_counts(normalize=True)*100)\n",
    "print('')\n",
    "print('Clicked on ad:')\n",
    "print(click_df[['gender']].value_counts(normalize=True)*100)"
   ]
  },
  {
   "cell_type": "code",
   "execution_count": 11,
   "metadata": {},
   "outputs": [
    {
     "name": "stdout",
     "output_type": "stream",
     "text": [
      "overall:\n",
      "device_type\n",
      "Desktop        34.4250\n",
      "Mobile         33.1125\n",
      "Tablet         32.4625\n",
      "Name: proportion, dtype: float64\n",
      "\n",
      "Clicked on ad:\n",
      "device_type\n",
      "Desktop        35.240848\n",
      "Tablet         32.427746\n",
      "Mobile         32.331407\n",
      "Name: proportion, dtype: float64\n"
     ]
    }
   ],
   "source": [
    "print('overall:')\n",
    "print(df[['device_type']].value_counts(normalize=True)*100)\n",
    "print('')\n",
    "print('Clicked on ad:')\n",
    "print(click_df[['device_type']].value_counts(normalize=True)*100)"
   ]
  },
  {
   "cell_type": "code",
   "execution_count": 12,
   "metadata": {},
   "outputs": [
    {
     "name": "stdout",
     "output_type": "stream",
     "text": [
      "overall:\n",
      "ad_position\n",
      "Bottom         35.2125\n",
      "Top            32.4625\n",
      "Side           32.3250\n",
      "Name: proportion, dtype: float64\n",
      "\n",
      "Clicked on ad:\n",
      "ad_position\n",
      "Bottom         37.102338\n",
      "Top            31.602146\n",
      "Side           31.295516\n",
      "Name: proportion, dtype: float64\n"
     ]
    }
   ],
   "source": [
    "print('overall:')\n",
    "print(df[['ad_position']].value_counts(normalize=True)*100)\n",
    "print('')\n",
    "print('Clicked on ad:')\n",
    "print(click_df[['ad_position']].value_counts(normalize=True)*100)"
   ]
  },
  {
   "cell_type": "code",
   "execution_count": 13,
   "metadata": {},
   "outputs": [
    {
     "name": "stdout",
     "output_type": "stream",
     "text": [
      "overall:\n",
      "browsing_history\n",
      "Entertainment       22.518206\n",
      "Social Media        20.199310\n",
      "Education           19.720199\n",
      "Shopping            18.857800\n",
      "News                18.704484\n",
      "Name: proportion, dtype: float64\n",
      "\n",
      "Clicked on ad:\n",
      "browsing_history\n",
      "Entertainment       24.220624\n",
      "Social Media        20.083933\n",
      "Education           19.364508\n",
      "Shopping            19.034772\n",
      "News                17.296163\n",
      "Name: proportion, dtype: float64\n"
     ]
    }
   ],
   "source": [
    "print('overall:')\n",
    "print(df[['browsing_history']].value_counts(normalize=True)*100)\n",
    "print('')\n",
    "print('Clicked on ad:')\n",
    "print(click_df[['browsing_history']].value_counts(normalize=True)*100)"
   ]
  },
  {
   "cell_type": "code",
   "execution_count": 14,
   "metadata": {},
   "outputs": [
    {
     "name": "stdout",
     "output_type": "stream",
     "text": [
      "overall:\n",
      "time_of_day\n",
      "Morning        26.575\n",
      "Afternoon      25.200\n",
      "Evening        24.475\n",
      "Night          23.750\n",
      "Name: proportion, dtype: float64\n",
      "\n",
      "Clicked on ad:\n",
      "time_of_day\n",
      "Morning        27.108896\n",
      "Afternoon      26.495399\n",
      "Evening        23.638804\n",
      "Night          22.756902\n",
      "Name: proportion, dtype: float64\n"
     ]
    }
   ],
   "source": [
    "print('overall:')\n",
    "print(df[['time_of_day']].value_counts(normalize=True)*100)\n",
    "print('')\n",
    "print('Clicked on ad:')\n",
    "print(click_df[['time_of_day']].value_counts(normalize=True)*100)"
   ]
  },
  {
   "cell_type": "markdown",
   "metadata": {},
   "source": [
    "## Chi-Square"
   ]
  },
  {
   "cell_type": "markdown",
   "metadata": {},
   "source": [
    "I want to test whether any of the columns are actually significant in determining whether the user will actually click on the ads. I will use the statistical method of 'chi square'."
   ]
  },
  {
   "cell_type": "code",
   "execution_count": 15,
   "metadata": {},
   "outputs": [],
   "source": [
    "# Doing a cross tab off all the columns to get a count of people who clicked on the ad and didn't.\n",
    "\n",
    "ad_position_counts = pd.crosstab(df['ad_position'], df['click'])\n",
    "gender_counts = pd.crosstab(df['gender'], df['click'])\n",
    "device_type_counts = pd.crosstab(df['device_type'], df['click'])\n",
    "ad_position_counts = pd.crosstab(df['ad_position'], df['click'])\n",
    "browsing_history_counts = pd.crosstab(df['browsing_history'], df['click'])\n",
    "time_of_day_counts = pd.crosstab(df['time_of_day'], df['click'])"
   ]
  },
  {
   "cell_type": "code",
   "execution_count": 16,
   "metadata": {},
   "outputs": [
    {
     "data": {
      "text/html": [
       "<div>\n",
       "<style scoped>\n",
       "    .dataframe tbody tr th:only-of-type {\n",
       "        vertical-align: middle;\n",
       "    }\n",
       "\n",
       "    .dataframe tbody tr th {\n",
       "        vertical-align: top;\n",
       "    }\n",
       "\n",
       "    .dataframe thead th {\n",
       "        text-align: right;\n",
       "    }\n",
       "</style>\n",
       "<table border=\"1\" class=\"dataframe\">\n",
       "  <thead>\n",
       "    <tr style=\"text-align: right;\">\n",
       "      <th>click</th>\n",
       "      <th>0</th>\n",
       "      <th>1</th>\n",
       "    </tr>\n",
       "    <tr>\n",
       "      <th>ad_position</th>\n",
       "      <th></th>\n",
       "      <th></th>\n",
       "    </tr>\n",
       "  </thead>\n",
       "  <tbody>\n",
       "    <tr>\n",
       "      <th>Bottom</th>\n",
       "      <td>881</td>\n",
       "      <td>1936</td>\n",
       "    </tr>\n",
       "    <tr>\n",
       "      <th>Side</th>\n",
       "      <td>953</td>\n",
       "      <td>1633</td>\n",
       "    </tr>\n",
       "    <tr>\n",
       "      <th>Top</th>\n",
       "      <td>948</td>\n",
       "      <td>1649</td>\n",
       "    </tr>\n",
       "  </tbody>\n",
       "</table>\n",
       "</div>"
      ],
      "text/plain": [
       "click          0     1\n",
       "ad_position           \n",
       "Bottom       881  1936\n",
       "Side         953  1633\n",
       "Top          948  1649"
      ]
     },
     "execution_count": 16,
     "metadata": {},
     "output_type": "execute_result"
    }
   ],
   "source": [
    "ad_position_counts"
   ]
  },
  {
   "cell_type": "markdown",
   "metadata": {},
   "source": [
    "Chi-square statistic: This represents how much the observed data deviates from the data if the ad being clicked was completely independent of the variable we are looking into. So the higher this value, the more important the variable is in determining whether an ad is clicked or not.\n",
    "\n",
    "P-value: The significance level is 0.05, if the p-value is less than this, this means that the variable is significant in determining whether an ad is clicked (they are not independent)."
   ]
  },
  {
   "cell_type": "code",
   "execution_count": 17,
   "metadata": {},
   "outputs": [
    {
     "name": "stdout",
     "output_type": "stream",
     "text": [
      "Chi-Square Statistic: 23.56024306000087\n",
      "P-Value: 7.65522964467335e-06\n",
      "Degrees of Freedom: 2\n",
      "Expected Frequencies:\n",
      "[[ 979.61175 1837.38825]\n",
      " [ 899.2815  1686.7185 ]\n",
      " [ 903.10675 1693.89325]]\n"
     ]
    }
   ],
   "source": [
    "from scipy.stats import chi2_contingency\n",
    "\n",
    "# Perform the Chi-Square test\n",
    "chi2, p, dof, expected = chi2_contingency(ad_position_counts)\n",
    "\n",
    "# Output the results\n",
    "print(f\"Chi-Square Statistic: {chi2}\")\n",
    "print(f\"P-Value: {p}\")\n",
    "print(f\"Degrees of Freedom: {dof}\")\n",
    "print(\"Expected Frequencies:\")\n",
    "print(expected)"
   ]
  },
  {
   "cell_type": "markdown",
   "metadata": {},
   "source": [
    "The statistic is quite high, so the observed results is quite different from the expected results if ad-position and ad-click were independent of each other.\n",
    "The p-value is less than 0.05 so, ad-postion in important in determining whether an ad was clicked.\n",
    "\n",
    "overall, ad position is significant in determining whether an ad is clicked or not."
   ]
  },
  {
   "cell_type": "code",
   "execution_count": 18,
   "metadata": {},
   "outputs": [
    {
     "name": "stdout",
     "output_type": "stream",
     "text": [
      "Chi-Square Statistic: 3.18823440942699\n",
      "P-Value: 0.20308773428446925\n",
      "Degrees of Freedom: 2\n",
      "Expected Frequencies:\n",
      "[[ 642.09006972 1191.90993028]\n",
      " [ 633.68758244 1176.31241756]\n",
      " [ 582.22234784 1080.77765216]]\n"
     ]
    }
   ],
   "source": [
    "chi2, p, dof, expected = chi2_contingency(gender_counts)\n",
    "\n",
    "# Output the results\n",
    "print(f\"Chi-Square Statistic: {chi2}\")\n",
    "print(f\"P-Value: {p}\")\n",
    "print(f\"Degrees of Freedom: {dof}\")\n",
    "print(\"Expected Frequencies:\")\n",
    "print(expected)"
   ]
  },
  {
   "cell_type": "code",
   "execution_count": 19,
   "metadata": {},
   "outputs": [
    {
     "name": "stdout",
     "output_type": "stream",
     "text": [
      "Chi-Square Statistic: 5.58488201060546\n",
      "P-Value: 0.061271467246694744\n",
      "Degrees of Freedom: 2\n",
      "Expected Frequencies:\n",
      "[[ 967.3425  1786.6575 ]\n",
      " [ 930.46125 1718.53875]\n",
      " [ 912.19625 1684.80375]]\n"
     ]
    }
   ],
   "source": [
    "chi2, p, dof, expected = chi2_contingency(device_type_counts)\n",
    "\n",
    "# Output the results\n",
    "print(f\"Chi-Square Statistic: {chi2}\")\n",
    "print(f\"P-Value: {p}\")\n",
    "print(f\"Degrees of Freedom: {dof}\")\n",
    "print(\"Expected Frequencies:\")\n",
    "print(expected)"
   ]
  },
  {
   "cell_type": "code",
   "execution_count": 20,
   "metadata": {},
   "outputs": [
    {
     "name": "stdout",
     "output_type": "stream",
     "text": [
      "Chi-Square Statistic: 22.52012529260599\n",
      "P-Value: 0.0001578736377495927\n",
      "Degrees of Freedom: 4\n",
      "Expected Frequencies:\n",
      "[[371.13415102 657.86584898]\n",
      " [423.79264086 751.20735914]\n",
      " [352.01839785 623.98160215]\n",
      " [354.90379456 629.09620544]\n",
      " [380.15101571 673.84898429]]\n"
     ]
    }
   ],
   "source": [
    "chi2, p, dof, expected = chi2_contingency(browsing_history_counts)\n",
    "\n",
    "# Output the results\n",
    "print(f\"Chi-Square Statistic: {chi2}\")\n",
    "print(f\"P-Value: {p}\")\n",
    "print(f\"Degrees of Freedom: {dof}\")\n",
    "print(\"Expected Frequencies:\")\n",
    "print(expected)"
   ]
  },
  {
   "cell_type": "code",
   "execution_count": 21,
   "metadata": {},
   "outputs": [
    {
     "name": "stdout",
     "output_type": "stream",
     "text": [
      "Chi-Square Statistic: 22.09465022539211\n",
      "P-Value: 6.23389067217068e-05\n",
      "Degrees of Freedom: 3\n",
      "Expected Frequencies:\n",
      "[[ 701.568 1314.432]\n",
      " [ 681.384 1276.616]\n",
      " [ 739.848 1386.152]\n",
      " [ 661.2   1238.8  ]]\n"
     ]
    }
   ],
   "source": [
    "chi2, p, dof, expected = chi2_contingency(time_of_day_counts)\n",
    "\n",
    "# Output the results\n",
    "print(f\"Chi-Square Statistic: {chi2}\")\n",
    "print(f\"P-Value: {p}\")\n",
    "print(f\"Degrees of Freedom: {dof}\")\n",
    "print(\"Expected Frequencies:\")\n",
    "print(expected)"
   ]
  },
  {
   "cell_type": "markdown",
   "metadata": {},
   "source": [
    "From the chi-square statistics and p-values, the variables that are actually significant in determining whether an ad is clicked or not are:\n",
    "- Ad position\n",
    "- Browsing history \n",
    "- Time of day\n",
    "\n",
    "We can exclude the device type and gender."
   ]
  },
  {
   "cell_type": "markdown",
   "metadata": {},
   "source": [
    "Now we know what variables are relevent, we can use these to build a model which can attempt to predict whether users will click on a ad."
   ]
  }
 ],
 "metadata": {
  "kernelspec": {
   "display_name": "Python 3",
   "language": "python",
   "name": "python3"
  },
  "language_info": {
   "codemirror_mode": {
    "name": "ipython",
    "version": 3
   },
   "file_extension": ".py",
   "mimetype": "text/x-python",
   "name": "python",
   "nbconvert_exporter": "python",
   "pygments_lexer": "ipython3",
   "version": "3.11.9"
  }
 },
 "nbformat": 4,
 "nbformat_minor": 2
}
